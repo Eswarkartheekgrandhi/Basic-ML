{
  "nbformat": 4,
  "nbformat_minor": 0,
  "metadata": {
    "colab": {
      "name": "python programs",
      "provenance": [],
      "authorship_tag": "ABX9TyOxiqh4FDAznAMYEPqHGWjD",
      "include_colab_link": true
    },
    "kernelspec": {
      "name": "python3",
      "display_name": "Python 3"
    },
    "language_info": {
      "name": "python"
    }
  },
  "cells": [
    {
      "cell_type": "markdown",
      "metadata": {
        "id": "view-in-github",
        "colab_type": "text"
      },
      "source": [
        "<a href=\"https://colab.research.google.com/github/Eswarkartheekgrandhi/Basic-ML/blob/main/python_programs.ipynb\" target=\"_parent\"><img src=\"https://colab.research.google.com/assets/colab-badge.svg\" alt=\"Open In Colab\"/></a>"
      ]
    },
    {
      "cell_type": "markdown",
      "metadata": {
        "id": "SeMQONc2ouMM"
      },
      "source": [
        "**python programs:**"
      ]
    },
    {
      "cell_type": "markdown",
      "metadata": {
        "id": "I_rSE2x9pFs_"
      },
      "source": [
        "20PA1A0554:Grandhi Eswar kartheek"
      ]
    },
    {
      "cell_type": "markdown",
      "metadata": {
        "id": "NV6prbB7pVz4"
      },
      "source": [
        "1.Even or Odd program"
      ]
    },
    {
      "cell_type": "code",
      "metadata": {
        "colab": {
          "base_uri": "https://localhost:8080/"
        },
        "id": "U3C1FkuYpf3y",
        "outputId": "e5da7dbd-cd85-46c1-ff8f-d997e73369c6"
      },
      "source": [
        "number=int(input(\"enter a number\"))\n",
        "if(number%2==0):\n",
        "  print(\"even number\")\n",
        "else:\n",
        "  print(\"odd number\")"
      ],
      "execution_count": 2,
      "outputs": [
        {
          "output_type": "stream",
          "text": [
            "enter a number54\n",
            "even number\n"
          ],
          "name": "stdout"
        }
      ]
    },
    {
      "cell_type": "markdown",
      "metadata": {
        "id": "bNDNY-T8qka8"
      },
      "source": [
        "2.sum of first n natural numbers"
      ]
    },
    {
      "cell_type": "code",
      "metadata": {
        "colab": {
          "base_uri": "https://localhost:8080/"
        },
        "id": "6Birs52Eq1t5",
        "outputId": "7ec4f9e7-a703-4241-a121-20ad68a0341a"
      },
      "source": [
        "n=int(input(\"enter n:\"))\n",
        "sum=0\n",
        "for i in range(1,n+1):\n",
        "  sum=sum+i\n",
        "print(sum)"
      ],
      "execution_count": 5,
      "outputs": [
        {
          "output_type": "stream",
          "text": [
            "enter n:2\n",
            "3\n"
          ],
          "name": "stdout"
        }
      ]
    },
    {
      "cell_type": "markdown",
      "metadata": {
        "id": "1eFoz_3UrKR7"
      },
      "source": [
        "3.sum of digits"
      ]
    },
    {
      "cell_type": "code",
      "metadata": {
        "colab": {
          "base_uri": "https://localhost:8080/"
        },
        "id": "QmTSV-5VrdeD",
        "outputId": "fdf6164d-2311-4802-8dc9-9af5150f1bbe"
      },
      "source": [
        "n=int(input(\"enter number:\"))\n",
        "sum=0\n",
        "while(n>0):\n",
        "  r=n%10\n",
        "  sum=sum+r\n",
        "  n=n//10\n",
        "print(sum)"
      ],
      "execution_count": 6,
      "outputs": [
        {
          "output_type": "stream",
          "text": [
            "enter number:12\n",
            "3\n"
          ],
          "name": "stdout"
        }
      ]
    }
  ]
}